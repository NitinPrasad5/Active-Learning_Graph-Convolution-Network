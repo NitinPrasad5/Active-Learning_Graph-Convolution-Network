{
  "nbformat": 4,
  "nbformat_minor": 0,
  "metadata": {
    "colab": {
      "provenance": [],
      "gpuType": "T4",
      "include_colab_link": true
    },
    "kernelspec": {
      "name": "python3",
      "display_name": "Python 3"
    },
    "language_info": {
      "name": "python"
    },
    "accelerator": "GPU"
  },
  "cells": [
    {
      "cell_type": "markdown",
      "metadata": {
        "id": "view-in-github",
        "colab_type": "text"
      },
      "source": [
        "<a href=\"https://colab.research.google.com/github/NitinPrasad5/Active-Learning_Graph-Convolution-Network/blob/main/Active_Learning_GCN.ipynb\" target=\"_parent\"><img src=\"https://colab.research.google.com/assets/colab-badge.svg\" alt=\"Open In Colab\"/></a>"
      ]
    },
    {
      "cell_type": "code",
      "source": [
        "from google.colab import drive\n",
        "drive.mount('/content/drive')"
      ],
      "metadata": {
        "colab": {
          "base_uri": "https://localhost:8080/"
        },
        "id": "wD_uOY6ePN3z",
        "outputId": "978dec0e-4f4e-4d89-a5af-fb146bb9eefa"
      },
      "execution_count": null,
      "outputs": [
        {
          "output_type": "stream",
          "name": "stdout",
          "text": [
            "Drive already mounted at /content/drive; to attempt to forcibly remount, call drive.mount(\"/content/drive\", force_remount=True).\n"
          ]
        }
      ]
    },
    {
      "cell_type": "markdown",
      "source": [
        "# Data"
      ],
      "metadata": {
        "id": "yanTGH6X48Dc"
      }
    },
    {
      "cell_type": "code",
      "source": [
        "import torch\n",
        "\n",
        "class SubsetSequentialSampler(torch.utils.data.Sampler):\n",
        "    r\"\"\"Samples elements sequentially from a given list of indices, without replacement.\n",
        "\n",
        "    Arguments:\n",
        "        indices (sequence): a sequence of indices\n",
        "    \"\"\"\n",
        "\n",
        "    def __init__(self, indices):\n",
        "        self.indices = indices\n",
        "\n",
        "    def __iter__(self):\n",
        "        return (self.indices[i] for i in range(len(self.indices)))\n",
        "\n",
        "    def __len__(self):\n",
        "        return len(self.indices)"
      ],
      "metadata": {
        "id": "dFWOLHV45WMb"
      },
      "execution_count": null,
      "outputs": []
    },
    {
      "cell_type": "markdown",
      "source": [
        "# Load DataSet"
      ],
      "metadata": {
        "id": "JaajeiND5JLy"
      }
    },
    {
      "cell_type": "code",
      "source": [
        "import numpy as np\n",
        "from torch.utils.data import DataLoader, Dataset\n",
        "import torchvision.transforms as T\n",
        "from torchvision.datasets import CIFAR100, CIFAR10, FashionMNIST, SVHN, GTSRB\n",
        "\n",
        "class MyDataset(Dataset):\n",
        "    def __init__(self, dataset_name, train_flag, transf):\n",
        "        self.dataset_name = dataset_name\n",
        "        if self.dataset_name == \"cifar10\":\n",
        "            self.cifar10 = CIFAR10('../cifar10', train=train_flag,\n",
        "                                    download=True, transform=transf)\n",
        "        if self.dataset_name == \"svhn\":\n",
        "            self.svhn = SVHN('../svhn', split=\"train\",\n",
        "                                    download=True, transform=transf)\n",
        "        if self.dataset_name == \"gtsrb\":\n",
        "            self.gtsrb = GTSRB('../gtsrb', split=\"train\",\n",
        "                                    download=True, transform=transf)\n",
        "\n",
        "\n",
        "    def __getitem__(self, index):\n",
        "        if self.dataset_name == \"cifar10\":\n",
        "            data, target = self.cifar10[index]\n",
        "        if self.dataset_name == \"svhn\":\n",
        "            data, target = self.svhn[index]\n",
        "        if self.dataset_name == \"gtsrb\":\n",
        "            data, target = self.gtsrb[index]\n",
        "        return data, target, index\n",
        "\n",
        "    def __len__(self):\n",
        "        if self.dataset_name == \"cifar10\":\n",
        "            return len(self.cifar10)\n",
        "        elif self.dataset_name == \"svhn\":\n",
        "            return len(self.svhn)\n",
        "        elif self.dataset_name == \"gtsrb\":\n",
        "            return len(self.gtsrb)\n",
        "\n",
        "# Data\n",
        "def load_dataset(dataset):\n",
        "    target_size = (32, 32)\n",
        "    train_transform = T.Compose([\n",
        "        T.Resize(target_size),\n",
        "        T.RandomHorizontalFlip(),\n",
        "        T.RandomCrop(size=32, padding=4),\n",
        "        T.ToTensor(),\n",
        "        T.Normalize([0.4914, 0.4822, 0.4465], [0.2023, 0.1994, 0.2010]) # T.Normalize((0.5071, 0.4867, 0.4408), (0.2675, 0.2565, 0.2761)) # CIFAR-100\n",
        "    ])\n",
        "\n",
        "    test_transform = T.Compose([\n",
        "        T.Resize(target_size),\n",
        "        T.ToTensor(),\n",
        "        T.Normalize([0.4914, 0.4822, 0.4465], [0.2023, 0.1994, 0.2010]) # T.Normalize((0.5071, 0.4867, 0.4408), (0.2675, 0.2565, 0.2761)) # CIFAR-100\n",
        "    ])\n",
        "\n",
        "\n",
        "    if dataset == 'cifar10':\n",
        "        data_train = CIFAR10('../cifar10', train=True, download=True, transform=train_transform)\n",
        "        data_unlabeled = MyDataset(dataset, True, test_transform)\n",
        "        data_test  = CIFAR10('../cifar10', train=False, download=True, transform=test_transform)\n",
        "        NO_CLASSES = 10\n",
        "        adden = ADDENDUM\n",
        "        no_train = NUM_TRAIN\n",
        "\n",
        "    elif dataset == 'gtsrb':\n",
        "        data_train = GTSRB('../gtsrb', split='train', download=True, transform=train_transform)\n",
        "        data_unlabeled = MyDataset(dataset, True, test_transform)\n",
        "        data_test  = GTSRB('../gtsrb', split='test', download=True, transform=test_transform)\n",
        "        NO_CLASSES = 43\n",
        "        adden = ADDENDUM\n",
        "        no_train = len(data_train)#NUM_TRAIN\n",
        "\n",
        "    elif dataset == 'svhn':\n",
        "        data_train = SVHN('../svhn', split='train', download=True,\n",
        "                                    transform=T.Compose([T.ToTensor()]))\n",
        "        data_unlabeled = MyDataset(dataset, True, T.Compose([T.ToTensor()]))\n",
        "        data_test  = SVHN('../svhn', split='test', download=True,\n",
        "                                    transform=T.Compose([T.ToTensor()]))\n",
        "        NO_CLASSES = 10\n",
        "        adden = ADDENDUM\n",
        "        no_train = NUM_TRAIN\n",
        "    return data_train, data_unlabeled, data_test, adden, NO_CLASSES, no_train"
      ],
      "metadata": {
        "id": "n-Li-NCp6cfT"
      },
      "execution_count": null,
      "outputs": []
    },
    {
      "cell_type": "markdown",
      "source": [
        "# Models"
      ],
      "metadata": {
        "id": "rNaoIWil4-Pz"
      }
    },
    {
      "cell_type": "markdown",
      "source": [
        "## Query Model\n",
        "\n"
      ],
      "metadata": {
        "id": "w7OzJRn15q6r"
      }
    },
    {
      "cell_type": "code",
      "source": [
        "import math\n",
        "import torch\n",
        "import torch.nn as nn\n",
        "import torch.nn.init as init\n",
        "import torch.nn.functional as F\n",
        "from torch.nn.parameter import Parameter\n",
        "from torch.nn.modules.module import Module\n",
        "\n",
        "class GraphConvolution(Module):\n",
        "    \"\"\"\n",
        "    Simple GCN layer, similar to https://arxiv.org/abs/1609.02907\n",
        "    \"\"\"\n",
        "\n",
        "    def __init__(self, in_features, out_features, bias=True):\n",
        "        super(GraphConvolution, self).__init__()\n",
        "        self.in_features = in_features\n",
        "        self.out_features = out_features\n",
        "        self.weight = Parameter(torch.FloatTensor(in_features, out_features))\n",
        "        if bias:\n",
        "            self.bias = Parameter(torch.FloatTensor(out_features))\n",
        "        else:\n",
        "            self.register_parameter('bias', None)\n",
        "        self.reset_parameters()\n",
        "\n",
        "    def reset_parameters(self):\n",
        "        stdv = 1. / math.sqrt(self.weight.size(1))\n",
        "        self.weight.data.uniform_(-stdv, stdv)\n",
        "        if self.bias is not None:\n",
        "            self.bias.data.uniform_(-stdv, stdv)\n",
        "\n",
        "    def forward(self, input, adj):\n",
        "        support = torch.mm(input, self.weight)\n",
        "        output = torch.spmm(adj, support)\n",
        "        if self.bias is not None:\n",
        "            return output + self.bias\n",
        "        else:\n",
        "            return output\n",
        "\n",
        "    def __repr__(self):\n",
        "        return self.__class__.__name__ + ' (' \\\n",
        "               + str(self.in_features) + ' -> ' \\\n",
        "               + str(self.out_features) + ')'\n",
        "\n",
        "class GCN(nn.Module):\n",
        "    def __init__(self, nfeat, nhid, nclass, dropout):\n",
        "        super(GCN, self).__init__()\n",
        "\n",
        "        self.gc1 = GraphConvolution(nfeat, nhid)\n",
        "        self.gc2 = GraphConvolution(nhid, nhid)\n",
        "        self.gc3 = GraphConvolution(nhid, nclass)\n",
        "        self.dropout = dropout\n",
        "        self.linear = nn.Linear(nclass, 1)\n",
        "\n",
        "    def forward(self, x, adj):\n",
        "        x = F.relu(self.gc1(x, adj))\n",
        "        feat = F.dropout(x, self.dropout, training=self.training)\n",
        "        x = self.gc3(feat, adj)\n",
        "        #x = self.linear(x)\n",
        "        # x = F.softmax(x, dim=1)\n",
        "        return torch.sigmoid(x), feat, torch.cat((feat,x),1)\n"
      ],
      "metadata": {
        "id": "7ETM9QJz5bOL"
      },
      "execution_count": null,
      "outputs": []
    },
    {
      "cell_type": "markdown",
      "source": [
        "## ResNet"
      ],
      "metadata": {
        "id": "aaNPD1Mi6CX-"
      }
    },
    {
      "cell_type": "code",
      "source": [
        "'''ResNet & VGG in PyTorch.\n",
        "\n",
        "'''\n",
        "import torch\n",
        "import torch.nn as nn\n",
        "import torch.nn.functional as F\n",
        "import numpy as np\n",
        "from torch.distributions import Normal\n",
        "import math\n",
        "\n",
        "class BasicBlock(nn.Module):\n",
        "    expansion = 1\n",
        "\n",
        "    def __init__(self, in_planes, planes, stride=1):\n",
        "        super(BasicBlock, self).__init__()\n",
        "        self.conv1 = nn.Conv2d(in_planes, planes, kernel_size=3, stride=stride, padding=1, bias=False)\n",
        "        self.bn1 = nn.BatchNorm2d(planes)\n",
        "        self.conv2 = nn.Conv2d(planes, planes, kernel_size=3, stride=1, padding=1, bias=False)\n",
        "        self.bn2 = nn.BatchNorm2d(planes)\n",
        "\n",
        "        self.shortcut = nn.Sequential()\n",
        "        if stride != 1 or in_planes != self.expansion*planes:\n",
        "            self.shortcut = nn.Sequential(\n",
        "                nn.Conv2d(in_planes, self.expansion*planes, kernel_size=1, stride=stride, bias=False),\n",
        "                nn.BatchNorm2d(self.expansion*planes)\n",
        "            )\n",
        "\n",
        "    def forward(self, x):\n",
        "        out = F.relu(self.bn1(self.conv1(x)))\n",
        "        out = self.bn2(self.conv2(out))\n",
        "        out += self.shortcut(x)\n",
        "        out = F.relu(out)\n",
        "        return out\n",
        "\n",
        "\n",
        "class Bottleneck(nn.Module):\n",
        "    expansion = 4\n",
        "\n",
        "    def __init__(self, in_planes, planes, stride=1):\n",
        "        super(Bottleneck, self).__init__()\n",
        "        self.conv1 = nn.Conv2d(in_planes, planes, kernel_size=1, bias=False)\n",
        "        self.bn1 = nn.BatchNorm2d(planes)\n",
        "        self.conv2 = nn.Conv2d(planes, planes, kernel_size=3, stride=stride, padding=1, bias=False)\n",
        "        self.bn2 = nn.BatchNorm2d(planes)\n",
        "        self.conv3 = nn.Conv2d(planes, self.expansion*planes, kernel_size=1, bias=False)\n",
        "        self.bn3 = nn.BatchNorm2d(self.expansion*planes)\n",
        "\n",
        "        self.shortcut = nn.Sequential()\n",
        "        if stride != 1 or in_planes != self.expansion*planes:\n",
        "            self.shortcut = nn.Sequential(\n",
        "                nn.Conv2d(in_planes, self.expansion*planes, kernel_size=1, stride=stride, bias=False),\n",
        "                nn.BatchNorm2d(self.expansion*planes)\n",
        "            )\n",
        "\n",
        "    def forward(self, x):\n",
        "        out = F.relu(self.bn1(self.conv1(x)))\n",
        "        out = F.relu(self.bn2(self.conv2(out)))\n",
        "        out = self.bn3(self.conv3(out))\n",
        "        out += self.shortcut(x)\n",
        "        out = F.relu(out)\n",
        "        return out\n",
        "\n",
        "\n",
        "class ResNet(nn.Module):\n",
        "    def __init__(self, block, num_blocks, num_classes=10):\n",
        "        super(ResNet, self).__init__()\n",
        "        self.in_planes = 64\n",
        "\n",
        "        self.conv1 = nn.Conv2d(3, 64, kernel_size=3, stride=1, padding=1, bias=False)\n",
        "        self.bn1 = nn.BatchNorm2d(64)\n",
        "        self.layer1 = self._make_layer(block, 64, num_blocks[0], stride=1)\n",
        "        self.layer2 = self._make_layer(block, 128, num_blocks[1], stride=2)\n",
        "        self.layer3 = self._make_layer(block, 256, num_blocks[2], stride=2)\n",
        "        self.layer4 = self._make_layer(block, 512, num_blocks[3], stride=2)\n",
        "        self.linear = nn.Linear(512*block.expansion, num_classes)\n",
        "        # self.linear2 = nn.Linear(1000, num_classes)\n",
        "\n",
        "    def _make_layer(self, block, planes, num_blocks, stride):\n",
        "        strides = [stride] + [1]*(num_blocks-1)\n",
        "        layers = []\n",
        "        for stride in strides:\n",
        "            layers.append(block(self.in_planes, planes, stride))\n",
        "            self.in_planes = planes * block.expansion\n",
        "        return nn.Sequential(*layers)\n",
        "\n",
        "    def forward(self, x):\n",
        "        out = F.relu(self.bn1(self.conv1(x)))\n",
        "        out1 = self.layer1(out)\n",
        "        out2 = self.layer2(out1)\n",
        "        out3 = self.layer3(out2)\n",
        "        out4 = self.layer4(out3)\n",
        "        out = F.avg_pool2d(out4, 4)\n",
        "        outf = out.view(out.size(0), -1)\n",
        "        # outl = self.linear(outf)\n",
        "        out = self.linear(outf)\n",
        "        return out, outf, [out1, out2, out3, out4]\n",
        "\n",
        "\n",
        "def ResNet18(num_classes = 10):\n",
        "    return ResNet(BasicBlock, [2,2,2,2], num_classes)\n"
      ],
      "metadata": {
        "id": "iD76o0Cn6HST"
      },
      "execution_count": null,
      "outputs": []
    },
    {
      "cell_type": "markdown",
      "source": [
        "# Selection Method"
      ],
      "metadata": {
        "id": "HRJTtkAd5QPD"
      }
    },
    {
      "cell_type": "code",
      "source": [
        "import numpy as np\n",
        "import torch\n",
        "import torch.nn as nn\n",
        "from torch.utils.data import DataLoader\n",
        "import torch.optim as optim\n",
        "# Custom\n",
        "# from config import *\n",
        "# from models.query_models import VAE, Discriminator, GCN\n",
        "# from data.sampler import SubsetSequentialSampler\n",
        "# from kcenterGreedy import kCenterGreedy\n",
        "\n",
        "def BCEAdjLoss(scores, lbl, nlbl, l_adj):\n",
        "    lnl = torch.log(scores[lbl])\n",
        "    lnu = torch.log(1 - scores[nlbl])\n",
        "    labeled_score = torch.mean(lnl)\n",
        "    unlabeled_score = torch.mean(lnu)\n",
        "    bce_adj_loss = -labeled_score - l_adj*unlabeled_score\n",
        "    return bce_adj_loss\n",
        "\n",
        "\n",
        "def aff_to_adj(x, y=None):\n",
        "    x = x.detach().cpu().numpy()\n",
        "    adj = np.matmul(x, x.transpose())\n",
        "    adj +=  -1.0*np.eye(adj.shape[0])\n",
        "    adj_diag = np.sum(adj, axis=0) #rowise sum\n",
        "    adj = np.matmul(adj, np.diag(1/adj_diag))\n",
        "    adj = adj + np.eye(adj.shape[0])\n",
        "    adj = torch.Tensor(adj).cuda()\n",
        "\n",
        "    return adj\n",
        "\n",
        "\n",
        "def get_features(models, unlabeled_loader):\n",
        "    models['backbone'].eval()\n",
        "    with torch.cuda.device(CUDA_VISIBLE_DEVICES):\n",
        "        features = torch.tensor([]).cuda()\n",
        "    with torch.no_grad():\n",
        "            for inputs, _, _ in unlabeled_loader:\n",
        "                with torch.cuda.device(CUDA_VISIBLE_DEVICES):\n",
        "                    inputs = inputs.cuda()\n",
        "                    _, features_batch, _ = models['backbone'](inputs)\n",
        "                features = torch.cat((features, features_batch), 0)\n",
        "            feat = features #.detach().cpu().numpy()\n",
        "    return feat\n",
        "\n",
        "\n",
        "\n",
        "# Select the indices of the unlablled data according to the methods\n",
        "def query_samples(model, method, data_unlabeled, subset, labeled_set, cycle, args):\n",
        "\n",
        "    if method == 'Random':\n",
        "        arg = np.random.randint(SUBSET, size=SUBSET)\n",
        "\n",
        "    if method == 'UncertainGCN':\n",
        "        # Create unlabeled dataloader for the unlabeled subset\n",
        "        unlabeled_loader = DataLoader(data_unlabeled, batch_size=BATCH,\n",
        "                sampler=SubsetSequentialSampler(subset+labeled_set), # more convenient if we maintain the order of subset\n",
        "                                    pin_memory=True)\n",
        "        binary_labels = torch.cat((torch.zeros([SUBSET, 1]),(torch.ones([len(labeled_set),1]))),0)\n",
        "\n",
        "\n",
        "        features = get_features(model, unlabeled_loader)\n",
        "        features = nn.functional.normalize(features)\n",
        "        adj = aff_to_adj(features)\n",
        "\n",
        "        gcn_module = GCN(nfeat=features.shape[1],\n",
        "                         nhid=args.hidden_units,\n",
        "                         nclass=1,\n",
        "                         dropout=args.dropout_rate).cuda()\n",
        "\n",
        "        models      = {'gcn_module': gcn_module}\n",
        "\n",
        "        optim_backbone = optim.Adam(models['gcn_module'].parameters(), lr=LR_GCN, weight_decay=WDECAY)\n",
        "        optimizers = {'gcn_module': optim_backbone}\n",
        "        # if cycle > 0:\n",
        "        #     lbl = np.arange(SUBSET, SUBSET + ADDENDUM + 200, 1)\n",
        "        # else:\n",
        "        #     lbl = np.arange(SUBSET, SUBSET + ADDENDUM, 1)\n",
        "\n",
        "        lbl = np.arange(SUBSET, SUBSET+(cycle+1)*ADDENDUM, 1)\n",
        "        nlbl = np.arange(0, SUBSET, 1)\n",
        "\n",
        "        ############\n",
        "        for _ in range(200):\n",
        "\n",
        "            optimizers['gcn_module'].zero_grad()\n",
        "            outputs, _, _ = models['gcn_module'](features, adj)\n",
        "            lamda = args.lambda_loss\n",
        "            loss = BCEAdjLoss(outputs, lbl, nlbl, lamda)\n",
        "            loss.backward()\n",
        "            optimizers['gcn_module'].step()\n",
        "\n",
        "\n",
        "        models['gcn_module'].eval()\n",
        "        with torch.no_grad():\n",
        "            with torch.cuda.device(CUDA_VISIBLE_DEVICES):\n",
        "                inputs = features.cuda()\n",
        "                labels = binary_labels.cuda()\n",
        "\n",
        "            scores, _, feat = models['gcn_module'](inputs, adj)\n",
        "\n",
        "            s_margin = args.s_margin\n",
        "            scores_median = np.squeeze(torch.abs(scores[:SUBSET] - s_margin).detach().cpu().numpy())\n",
        "            arg = np.argsort(-(scores_median))\n",
        "\n",
        "            print(\"Max confidence value: \",torch.max(scores.data))\n",
        "            print(\"Mean confidence value: \",torch.mean(scores.data))\n",
        "            preds = torch.round(scores)\n",
        "            correct_labeled = (preds[SUBSET:,0] == labels[SUBSET:,0]).sum().item() / ((cycle+1)*ADDENDUM)\n",
        "            correct_unlabeled = (preds[:SUBSET,0] == labels[:SUBSET,0]).sum().item() / SUBSET\n",
        "            correct = (preds[:,0] == labels[:,0]).sum().item() / (SUBSET + (cycle+1)*ADDENDUM)\n",
        "            print(\"Labeled classified: \", correct_labeled)\n",
        "            print(\"Unlabeled classified: \", correct_unlabeled)\n",
        "            print(\"Total classified: \", correct)\n",
        "\n",
        "    return arg"
      ],
      "metadata": {
        "id": "8Wn9Ss586szr"
      },
      "execution_count": null,
      "outputs": []
    },
    {
      "cell_type": "markdown",
      "source": [
        "# Train Test"
      ],
      "metadata": {
        "id": "Jno9bnrJ5Stj"
      }
    },
    {
      "cell_type": "code",
      "source": [
        "\n",
        "import torch\n",
        "from tqdm import tqdm\n",
        "import numpy as np\n",
        "import torchvision.transforms as T\n",
        "# import models.resnet as resnet\n",
        "\n",
        "\n",
        "def test(models, epoch, method, dataloaders, mode='val'):\n",
        "    assert mode == 'val' or mode == 'test'\n",
        "    models['backbone'].eval()\n",
        "    total = 0\n",
        "    correct = 0\n",
        "    with torch.no_grad():\n",
        "        for (inputs, labels) in dataloaders[mode]:\n",
        "            with torch.cuda.device(CUDA_VISIBLE_DEVICES):\n",
        "                inputs = inputs.cuda()\n",
        "                labels = labels.cuda()\n",
        "\n",
        "            scores, _, _ = models['backbone'](inputs)\n",
        "            _, preds = torch.max(scores.data, 1)\n",
        "            total += labels.size(0)\n",
        "            correct += (preds == labels).sum().item()\n",
        "\n",
        "    return 100 * correct / total\n",
        "\n",
        "def get_sub_labeled_data(models, epoch, method, dataloaders, mode='val'):\n",
        "    assert mode == 'val' or mode == 'test'\n",
        "    models['backbone'].eval()\n",
        "    data_indices = []\n",
        "    confidence_scores = []\n",
        "    with torch.no_grad():\n",
        "        for batch_idx, (inputs, labels) in enumerate(dataloaders['labeled']):\n",
        "            sampled_indices = list(dataloaders['labeled'].batch_sampler.sampler.indices)\n",
        "            indices_in_batch = sampled_indices[batch_idx * BATCH:(batch_idx + 1) * BATCH]\n",
        "            data_indices += indices_in_batch\n",
        "            with torch.cuda.device(CUDA_VISIBLE_DEVICES):\n",
        "                inputs = inputs.cuda()\n",
        "                labels = labels.cuda()\n",
        "\n",
        "            scores, _, _ = models['backbone'](inputs)\n",
        "            _, preds = torch.max(scores.data, 1)\n",
        "            #predicted_scores = scores[range(len(preds)), preds]\n",
        "            predicted_scores = [max(scores[i]) for i in range(len(scores))]\n",
        "            confidence_scores.extend(predicted_scores)\n",
        "\n",
        "    combined_data = list(zip(data_indices, confidence_scores))\n",
        "    sorted_data = sorted(combined_data, key=lambda x: x[1])\n",
        "    sorted_indices = [index for index, _ in sorted_data]\n",
        "    confidence_scores = [score for index, score in sorted_data]\n",
        "    print(\"first 5 comf score: \",confidence_scores[0],confidence_scores[1],confidence_scores[2],confidence_scores[3],confidence_scores[4])\n",
        "    return sorted_indices\n",
        "\n",
        "\n",
        "iters = 0\n",
        "def train_epoch(models, method, criterion, optimizers, dataloaders, epoch, epoch_loss):\n",
        "    models['backbone'].train()\n",
        "    if method == 'lloss':\n",
        "        models['module'].train()\n",
        "    global iters\n",
        "    for data in tqdm(dataloaders['train'], leave=False, total=len(dataloaders['train'])):\n",
        "        with torch.cuda.device(CUDA_VISIBLE_DEVICES):\n",
        "            inputs = data[0].cuda()\n",
        "            labels = data[1].cuda()\n",
        "\n",
        "        iters += 1\n",
        "\n",
        "        optimizers['backbone'].zero_grad()\n",
        "\n",
        "        scores, _, features = models['backbone'](inputs)\n",
        "        target_loss = criterion(scores, labels)\n",
        "\n",
        "        m_backbone_loss = torch.sum(target_loss) / target_loss.size(0)\n",
        "        loss = m_backbone_loss\n",
        "\n",
        "        loss.backward()\n",
        "        optimizers['backbone'].step()\n",
        "        if method == 'lloss':\n",
        "            optimizers['module'].step()\n",
        "    return loss\n",
        "\n",
        "def train(models, method, criterion, optimizers, schedulers, dataloaders, num_epochs, epoch_loss):\n",
        "    print('>> Train a Model.')\n",
        "    best_acc = 0.\n",
        "\n",
        "    for epoch in range(num_epochs):\n",
        "\n",
        "        best_loss = torch.tensor([0.5]).cuda()\n",
        "        loss = train_epoch(models, method, criterion, optimizers, dataloaders, epoch, epoch_loss)\n",
        "\n",
        "        schedulers['backbone'].step()\n",
        "        if method == 'lloss':\n",
        "            schedulers['module'].step()\n",
        "\n",
        "        if epoch % 20  == 7:\n",
        "            acc = test(models, epoch, method, dataloaders, mode='test')\n",
        "            # acc = test(models, dataloaders, mc, 'test')\n",
        "            if best_acc < acc:\n",
        "                best_acc = acc\n",
        "                print('Val Acc: {:.3f} \\t Best Acc: {:.3f}'.format(acc, best_acc))\n",
        "    print('>> Finished.')"
      ],
      "metadata": {
        "id": "WHVT61am61T0"
      },
      "execution_count": null,
      "outputs": []
    },
    {
      "cell_type": "markdown",
      "source": [
        "# Config"
      ],
      "metadata": {
        "id": "-f3rIeTc5AcD"
      }
    },
    {
      "cell_type": "code",
      "source": [
        "''' Configuration File.\n",
        "'''\n",
        "\n",
        "CUDA_VISIBLE_DEVICES = 0\n",
        "NUM_TRAIN = 39208 # N \\Fashion MNIST 60000, cifar 10/100 50000\n",
        "# NUM_VAL   = 50000 - NUM_TRAIN\n",
        "BATCH     = 128 # B\n",
        "SUBSET    = 10000 # M\n",
        "ADDENDUM  = 1000 # K\n",
        "\n",
        "MARGIN = 1.0 # xi\n",
        "WEIGHT = 1.0 # lambda\n",
        "\n",
        "TRIALS = 1\n",
        "CYCLES = 3\n",
        "\n",
        "EPOCH = 200\n",
        "EPOCH_GCN = 200\n",
        "LR = 3e-1\n",
        "LR_GCN = 1e-3\n",
        "MILESTONES = [160, 360,560,760,960]\n",
        "EPOCHL = 120#20 #120 # After 120 epochs, stop\n",
        "EPOCHV = 100 # VAAL number of epochs\n",
        "\n",
        "MOMENTUM = 0.9\n",
        "WDECAY = 5e-4#2e-3# 5e-4"
      ],
      "metadata": {
        "id": "Y3oAy8Dk6Pf7"
      },
      "execution_count": null,
      "outputs": []
    },
    {
      "cell_type": "markdown",
      "source": [
        "# Main"
      ],
      "metadata": {
        "id": "I9ah0XbD5Lw7"
      }
    },
    {
      "cell_type": "code",
      "source": [
        "'''\n",
        "GCN Active Learning\n",
        "'''\n",
        "\n",
        "# Python\n",
        "import os\n",
        "import random\n",
        "import torch\n",
        "import numpy as np\n",
        "import torch.nn as nn\n",
        "import torch.optim as optim\n",
        "from torch.utils.data import DataLoader\n",
        "import torch.optim.lr_scheduler as lr_scheduler\n",
        "from torch.utils.data.sampler import SubsetRandomSampler\n",
        "import torchvision.transforms as T\n",
        "import torchvision.models as models\n",
        "import argparse\n",
        "# Custom\n",
        "# import models.resnet as resnet\n",
        "# from models.resnet import vgg11\n",
        "# from models.query_models import LossNet\n",
        "# from train_test import train, test\n",
        "# from load_dataset import load_dataset\n",
        "# from selection_methods import query_samples\n",
        "# from config import *\n",
        "\n",
        "\n",
        "parser = argparse.ArgumentParser()\n",
        "parser.add_argument('-f')\n",
        "parser.add_argument(\"-l\",\"--lambda_loss\",type=float, default=1.2,\n",
        "                    help=\"Adjustment graph loss parameter between the labeled and unlabeled\")\n",
        "parser.add_argument(\"-s\",\"--s_margin\", type=float, default=0.1,\n",
        "                    help=\"Confidence margin of graph\")\n",
        "parser.add_argument(\"-n\",\"--hidden_units\", type=int, default=128,\n",
        "                    help=\"Number of hidden units of the graph\")\n",
        "parser.add_argument(\"-r\",\"--dropout_rate\", type=float, default=0.3,\n",
        "                    help=\"Dropout rate of the graph neural network\")\n",
        "parser.add_argument(\"-d\",\"--dataset\", type=str, default=\"gtsrb\",\n",
        "                    help=\"\")\n",
        "parser.add_argument(\"-e\",\"--no_of_epochs\", type=int, default=20,\n",
        "                    help=\"Number of epochs for the active learner\")\n",
        "parser.add_argument(\"-m\",\"--method_type\", type=str, default=\"UncertainGCN\",\n",
        "                    help=\"\")\n",
        "parser.add_argument(\"-c\",\"--cycles\", type=int, default=4,\n",
        "                    help=\"Number of active learning cycles\")\n",
        "parser.add_argument(\"-t\",\"--total\", type=bool, default=False,\n",
        "                    help=\"Training on the entire dataset\")\n",
        "\n",
        "args = parser.parse_args()\n",
        "\n",
        "##\n",
        "# Main\n",
        "if __name__ == '__main__':\n",
        "\n",
        "    method = args.method_type\n",
        "    methods = ['Random', 'UncertainGCN', 'CoreGCN', 'CoreSet', 'lloss','VAAL']\n",
        "    datasets = ['cifar10', 'cifar100', 'fashionmnist','svhn','gtsrb']\n",
        "    assert method in methods, 'No method %s! Try options %s'%(method, methods)\n",
        "    assert args.dataset in datasets, 'No dataset %s! Try options %s'%(args.dataset, datasets)\n",
        "    '''\n",
        "    method_type: 'Random', 'UncertainGCN', 'CoreGCN', 'CoreSet', 'lloss','VAAL'\n",
        "    '''\n",
        "    results = open('results_'+str(args.method_type)+\"_\"+args.dataset +'_main'+str(args.cycles)+str(args.total)+'.txt','w')\n",
        "    print(\"Dataset: %s\"%args.dataset)\n",
        "    print(\"Method type:%s\"%method)\n",
        "    if args.total:\n",
        "        TRIALS = 1\n",
        "        CYCLES = 1\n",
        "    else:\n",
        "        CYCLES = args.cycles\n",
        "    for trial in range(TRIALS):\n",
        "\n",
        "        # Load training and testing dataset\n",
        "        data_train, data_unlabeled, data_test, adden, NO_CLASSES, no_train = load_dataset(args.dataset)\n",
        "        # Don't predefine budget size. Configure it in the config.py: ADDENDUM = adden\n",
        "        NUM_TRAIN = no_train\n",
        "        indices = list(range(NUM_TRAIN))\n",
        "        random.shuffle(indices)\n",
        "\n",
        "        if args.total:\n",
        "            labeled_set= indices\n",
        "        else:\n",
        "            labeled_set = indices[:ADDENDUM]\n",
        "            unlabeled_set = [x for x in indices if x not in labeled_set]\n",
        "\n",
        "        train_loader = DataLoader(data_train, batch_size=BATCH,\n",
        "                                    sampler=SubsetRandomSampler(labeled_set),\n",
        "                                    pin_memory=True, drop_last=True)\n",
        "\n",
        "        test_loader  = DataLoader(data_test, batch_size=BATCH)\n",
        "\n",
        "        dataloaders  = {'train': train_loader, 'test': test_loader}\n",
        "\n",
        "        for cycle in range(CYCLES):\n",
        "\n",
        "            # Randomly sample 10000 unlabeled data points\n",
        "            if not args.total:\n",
        "                random.shuffle(unlabeled_set)\n",
        "                subset = unlabeled_set[:SUBSET]\n",
        "\n",
        "            # Model - create new instance for every cycle so that it resets\n",
        "            with torch.cuda.device(CUDA_VISIBLE_DEVICES):\n",
        "                resnet18 = ResNet18(num_classes=NO_CLASSES).cuda()\n",
        "\n",
        "            models = {'backbone': resnet18}\n",
        "\n",
        "            # Loss, criterion and scheduler (re)initialization\n",
        "            criterion      = nn.CrossEntropyLoss(reduction='none')\n",
        "            optim_backbone = optim.SGD(models['backbone'].parameters(), lr=LR,\n",
        "                momentum=MOMENTUM, weight_decay=WDECAY)\n",
        "\n",
        "            sched_backbone = lr_scheduler.MultiStepLR(optim_backbone, milestones=MILESTONES)\n",
        "            optimizers = {'backbone': optim_backbone}\n",
        "            schedulers = {'backbone': sched_backbone}\n",
        "\n",
        "            # Training and testing\n",
        "            train(models, method, criterion, optimizers, schedulers, dataloaders, args.no_of_epochs, EPOCHL)\n",
        "            acc = test(models, EPOCH, method, dataloaders, mode='test')\n",
        "            print('Trial {}/{} || Cycle {}/{} || Label set size {}: Test acc {}'.format(trial+1, TRIALS, cycle+1, CYCLES, len(labeled_set), acc))\n",
        "            np.array([method, trial+1, TRIALS, cycle+1, CYCLES, len(labeled_set), acc]).tofile(results, sep=\" \")\n",
        "            results.write(\"\\n\")\n",
        "\n",
        "\n",
        "            if cycle == (CYCLES-1):\n",
        "                # Reached final training cycle\n",
        "                print(\"Finished.\")\n",
        "                break\n",
        "            # Get the indices of the unlabeled samples to train on next cycle\n",
        "            arg = query_samples(models, method, data_unlabeled, subset, labeled_set, cycle, args)\n",
        "\n",
        "            # Update the labeled dataset and the unlabeled dataset, respectively\n",
        "            sampled_from_labeled = get_sub_labeled_data(models, EPOCH, method, dataloaders, mode='test')\n",
        "            labeled_set = list(torch.tensor(subset)[arg][-ADDENDUM:].numpy()) + sampled_from_labeled[:200]\n",
        "            listd = list(torch.tensor(subset)[arg][:-ADDENDUM].numpy())\n",
        "            unlabeled_set = listd + unlabeled_set[SUBSET:]\n",
        "            print(len(labeled_set), min(labeled_set), max(labeled_set))\n",
        "            # Create a new dataloader for the updated labeled dataset\n",
        "            dataloaders['train'] = DataLoader(data_train, batch_size=BATCH,\n",
        "                                            sampler=SubsetRandomSampler(labeled_set),\n",
        "                                            pin_memory=True)\n",
        "\n",
        "    results.close()\n",
        "\n",
        "import shutil\n",
        "\n",
        "# Define the destination directory in Google Drive\n",
        "drive_directory_cifar = \"/content/drive/MyDrive/B.Tech./4th year/sem1/AML/Assignment1/Programming_Assignment/Results_CIFAR10\"\n",
        "drive_directory_cifar = \"/content/drive/MyDrive/B.Tech./4th year/sem1/AML/Assignment1/Programming_Assignment/Results_GTSRB\"\n",
        "\n",
        "result_file_path = 'content/results_'+str(args.method_type)+\"_\"+args.dataset +'_main'+str(args.cycles)+str(args.total)+'.txt'\n",
        "\n",
        "# Copy the file to the destination directory in Google Drive\n",
        "if(args.dataset == 'cifar10'):\n",
        "    shutil.copy(file_path, drive_directory_cifar)\n",
        "elif(args.dataset == 'gtsrb'):\n",
        "    shutil.copy(file_path, drive_directory_gtsrb)\n"
      ],
      "metadata": {
        "id": "o6NjVaoc6jpb"
      },
      "execution_count": null,
      "outputs": []
    },
    {
      "cell_type": "markdown",
      "source": [
        "#Transfer learning"
      ],
      "metadata": {
        "id": "-_AOO7RHcmHz"
      }
    },
    {
      "cell_type": "code",
      "source": [
        "'''\n",
        "GCN Active Learning\n",
        "'''\n",
        "\n",
        "# Python\n",
        "import os\n",
        "import random\n",
        "import torch\n",
        "import numpy as np\n",
        "import torch.nn as nn\n",
        "import torch.optim as optim\n",
        "from torch.utils.data import DataLoader\n",
        "import torch.optim.lr_scheduler as lr_scheduler\n",
        "from torch.utils.data.sampler import SubsetRandomSampler\n",
        "import torchvision.transforms as T\n",
        "import torchvision.models as models\n",
        "import argparse\n",
        "# Custom\n",
        "# import models.resnet as resnet\n",
        "# from models.resnet import vgg11\n",
        "# from models.query_models import LossNet\n",
        "# from train_test import train, test\n",
        "# from load_dataset import load_dataset\n",
        "# from selection_methods import query_samples\n",
        "# from config import *\n",
        "\n",
        "\n",
        "parser = argparse.ArgumentParser()\n",
        "parser.add_argument('-f')\n",
        "parser.add_argument(\"-l\",\"--lambda_loss\",type=float, default=1.2,\n",
        "                    help=\"Adjustment graph loss parameter between the labeled and unlabeled\")\n",
        "parser.add_argument(\"-s\",\"--s_margin\", type=float, default=0.1,\n",
        "                    help=\"Confidence margin of graph\")\n",
        "parser.add_argument(\"-n\",\"--hidden_units\", type=int, default=128,\n",
        "                    help=\"Number of hidden units of the graph\")\n",
        "parser.add_argument(\"-r\",\"--dropout_rate\", type=float, default=0.3,\n",
        "                    help=\"Dropout rate of the graph neural network\")\n",
        "parser.add_argument(\"-d\",\"--dataset\", type=str, default=\"gtsrb\",\n",
        "                    help=\"\")\n",
        "parser.add_argument(\"-e\",\"--no_of_epochs\", type=int, default=200,\n",
        "                    help=\"Number of epochs for the active learner\")\n",
        "parser.add_argument(\"-m\",\"--method_type\", type=str, default=\"UncertainGCN\",\n",
        "                    help=\"\")\n",
        "parser.add_argument(\"-c\",\"--cycles\", type=int, default=10,\n",
        "                    help=\"Number of active learning cycles\")\n",
        "parser.add_argument(\"-t\",\"--total\", type=bool, default=False,\n",
        "                    help=\"Training on the entire dataset\")\n",
        "\n",
        "args = parser.parse_args()\n",
        "\n",
        "##\n",
        "# Main\n",
        "if __name__ == '__main__':\n",
        "\n",
        "    method = args.method_type\n",
        "    methods = ['Random', 'UncertainGCN', 'CoreGCN', 'CoreSet', 'lloss','VAAL']\n",
        "    datasets = ['cifar10', 'cifar100', 'fashionmnist','svhn','gtsrb']\n",
        "    assert method in methods, 'No method %s! Try options %s'%(method, methods)\n",
        "    assert args.dataset in datasets, 'No dataset %s! Try options %s'%(args.dataset, datasets)\n",
        "    '''\n",
        "    method_type: 'Random', 'UncertainGCN', 'CoreGCN', 'CoreSet', 'lloss','VAAL'\n",
        "    '''\n",
        "    results = open('results_'+str(args.method_type)+\"_\"+args.dataset +'_main'+str(args.cycles)+str(args.total)+'.txt','w')\n",
        "    print(\"Dataset: %s\"%args.dataset)\n",
        "    print(\"Method type:%s\"%method)\n",
        "    if args.total:\n",
        "        TRIALS = 1\n",
        "        CYCLES = 1\n",
        "    else:\n",
        "        CYCLES = args.cycles\n",
        "    for trial in range(TRIALS):\n",
        "\n",
        "        # Load training and testing dataset\n",
        "        data_train, data_unlabeled, data_test, adden, NO_CLASSES, no_train = load_dataset(args.dataset)\n",
        "        # Don't predefine budget size. Configure it in the config.py: ADDENDUM = adden\n",
        "        NUM_TRAIN = no_train\n",
        "        indices = list(range(NUM_TRAIN))\n",
        "        random.shuffle(indices)\n",
        "\n",
        "        if args.total:\n",
        "            labeled_set= indices\n",
        "        else:\n",
        "            labeled_set = indices[:ADDENDUM]\n",
        "            labeled_set_till_now = labeled_set\n",
        "            unlabeled_set = [x for x in indices if x not in labeled_set]\n",
        "\n",
        "        train_loader = DataLoader(data_train, batch_size=BATCH,\n",
        "                                    sampler=SubsetRandomSampler(labeled_set),\n",
        "                                    pin_memory=True, drop_last=True)\n",
        "\n",
        "        test_loader  = DataLoader(data_test, batch_size=BATCH)\n",
        "\n",
        "        labeled_loader = DataLoader(data_train, batch_size=BATCH,\n",
        "                                    sampler=SubsetRandomSampler(labeled_set_till_now),\n",
        "                                    pin_memory=True, drop_last=True)\n",
        "\n",
        "        dataloaders  = {'train': train_loader, 'test': test_loader, 'labeled': labeled_loader}\n",
        "\n",
        "        # Model - create new instance for every cycle so that it resets\n",
        "        with torch.cuda.device(CUDA_VISIBLE_DEVICES):\n",
        "            resnet18 = ResNet18(num_classes=NO_CLASSES).cuda()\n",
        "\n",
        "        models = {'backbone': resnet18}\n",
        "\n",
        "        # Loss, criterion and scheduler (re)initialization\n",
        "        criterion      = nn.CrossEntropyLoss(reduction='none')\n",
        "        optim_backbone = optim.SGD(models['backbone'].parameters(), lr=LR,\n",
        "            momentum=MOMENTUM, weight_decay=WDECAY)\n",
        "\n",
        "        sched_backbone = lr_scheduler.MultiStepLR(optim_backbone, milestones=MILESTONES, gamma = 0.5)\n",
        "        optimizers = {'backbone': optim_backbone}\n",
        "        schedulers = {'backbone': sched_backbone}\n",
        "\n",
        "        for cycle in range(CYCLES):\n",
        "\n",
        "            # Randomly sample 10000 unlabeled data points\n",
        "            if not args.total:\n",
        "                random.shuffle(unlabeled_set)\n",
        "                subset = unlabeled_set[:SUBSET]\n",
        "\n",
        "            # Training and testing\n",
        "            train(models, method, criterion, optimizers, schedulers, dataloaders, args.no_of_epochs, EPOCHL)\n",
        "            acc = test(models, EPOCH, method, dataloaders, mode='test')\n",
        "            print('Trial {}/{} || Cycle {}/{} || Label set size {}: Test acc {}'.format(trial+1, TRIALS, cycle+1, CYCLES, len(labeled_set), acc))\n",
        "            np.array([method, trial+1, TRIALS, cycle+1, CYCLES, len(labeled_set), acc]).tofile(results, sep=\" \")\n",
        "            results.write(\"\\n\")\n",
        "\n",
        "\n",
        "            if cycle == (CYCLES-1):\n",
        "                # Reached final training cycle\n",
        "                print(\"Finished.\")\n",
        "                break\n",
        "            # Get the indices of the unlabeled samples to train on next cycle\n",
        "            arg = query_samples(models, method, data_unlabeled, subset, labeled_set_till_now, cycle, args)\n",
        "\n",
        "            # Update the labeled dataset and the unlabeled dataset, respectively\n",
        "            sampled_from_labeled = get_sub_labeled_data(models, EPOCH, method, dataloaders, mode='test')\n",
        "            labeled_set = list(torch.tensor(subset)[arg][-ADDENDUM:].numpy()) + sampled_from_labeled[:int(0.25*len(labeled_set_till_now))]\n",
        "            labeled_set_till_now += list(torch.tensor(subset)[arg][-ADDENDUM:].numpy())\n",
        "            listd = list(torch.tensor(subset)[arg][:-ADDENDUM].numpy())\n",
        "            unlabeled_set = listd + unlabeled_set[SUBSET:]\n",
        "            print(len(labeled_set), min(labeled_set), max(labeled_set))\n",
        "            # Create a new dataloader for the updated labeled dataset\n",
        "            dataloaders['train'] = DataLoader(data_train, batch_size=BATCH,\n",
        "                                            sampler=SubsetRandomSampler(labeled_set),\n",
        "                                            pin_memory=True)\n",
        "\n",
        "    results.close()"
      ],
      "metadata": {
        "id": "94XKl_Kickwr",
        "colab": {
          "base_uri": "https://localhost:8080/"
        },
        "outputId": "08d92ef4-003c-4bef-8192-3b26549ea2d2"
      },
      "execution_count": null,
      "outputs": [
        {
          "output_type": "stream",
          "name": "stdout",
          "text": [
            "Dataset: gtsrb\n",
            "Method type:UncertainGCN\n",
            ">> Train a Model.\n"
          ]
        },
        {
          "output_type": "stream",
          "name": "stderr",
          "text": []
        },
        {
          "output_type": "stream",
          "name": "stdout",
          "text": [
            "Val Acc: 7.688 \t Best Acc: 7.688\n"
          ]
        },
        {
          "output_type": "stream",
          "name": "stderr",
          "text": []
        },
        {
          "output_type": "stream",
          "name": "stdout",
          "text": [
            "Val Acc: 15.503 \t Best Acc: 15.503\n"
          ]
        },
        {
          "output_type": "stream",
          "name": "stderr",
          "text": []
        },
        {
          "output_type": "stream",
          "name": "stdout",
          "text": [
            "Val Acc: 18.068 \t Best Acc: 18.068\n"
          ]
        },
        {
          "output_type": "stream",
          "name": "stderr",
          "text": []
        },
        {
          "output_type": "stream",
          "name": "stdout",
          "text": [
            "Val Acc: 40.340 \t Best Acc: 40.340\n"
          ]
        },
        {
          "output_type": "stream",
          "name": "stderr",
          "text": []
        },
        {
          "output_type": "stream",
          "name": "stdout",
          "text": [
            "Val Acc: 41.188 \t Best Acc: 41.188\n"
          ]
        },
        {
          "output_type": "stream",
          "name": "stderr",
          "text": []
        },
        {
          "output_type": "stream",
          "name": "stdout",
          "text": [
            "Val Acc: 48.741 \t Best Acc: 48.741\n"
          ]
        },
        {
          "output_type": "stream",
          "name": "stderr",
          "text": []
        },
        {
          "output_type": "stream",
          "name": "stdout",
          "text": [
            "Val Acc: 71.607 \t Best Acc: 71.607\n"
          ]
        },
        {
          "output_type": "stream",
          "name": "stderr",
          "text": []
        },
        {
          "output_type": "stream",
          "name": "stdout",
          "text": [
            "Val Acc: 75.859 \t Best Acc: 75.859\n"
          ]
        },
        {
          "output_type": "stream",
          "name": "stderr",
          "text": []
        },
        {
          "output_type": "stream",
          "name": "stdout",
          "text": [
            ">> Finished.\n",
            "Trial 1/1 || Cycle 1/10 || Label set size 1000: Test acc 76.41330166270784\n",
            "first 5 comf score:  tensor(8.7798, device='cuda:0') tensor(9.1963, device='cuda:0') tensor(9.2943, device='cuda:0') tensor(9.3665, device='cuda:0') tensor(9.3794, device='cuda:0')\n",
            "1250 84 26615\n",
            ">> Train a Model.\n"
          ]
        },
        {
          "output_type": "stream",
          "name": "stderr",
          "text": []
        },
        {
          "output_type": "stream",
          "name": "stdout",
          "text": [
            "Val Acc: 69.913 \t Best Acc: 69.913\n"
          ]
        },
        {
          "output_type": "stream",
          "name": "stderr",
          "text": []
        },
        {
          "output_type": "stream",
          "name": "stdout",
          "text": [
            "Val Acc: 71.433 \t Best Acc: 71.433\n"
          ]
        },
        {
          "output_type": "stream",
          "name": "stderr",
          "text": []
        },
        {
          "output_type": "stream",
          "name": "stdout",
          "text": [
            "Val Acc: 74.576 \t Best Acc: 74.576\n"
          ]
        },
        {
          "output_type": "stream",
          "name": "stderr",
          "text": []
        },
        {
          "output_type": "stream",
          "name": "stdout",
          "text": [
            "Val Acc: 79.477 \t Best Acc: 79.477\n"
          ]
        },
        {
          "output_type": "stream",
          "name": "stderr",
          "text": []
        },
        {
          "output_type": "stream",
          "name": "stdout",
          "text": [
            "Val Acc: 85.867 \t Best Acc: 85.867\n"
          ]
        },
        {
          "output_type": "stream",
          "name": "stderr",
          "text": []
        },
        {
          "output_type": "stream",
          "name": "stdout",
          "text": [
            "Val Acc: 87.379 \t Best Acc: 87.379\n"
          ]
        },
        {
          "output_type": "stream",
          "name": "stderr",
          "text": []
        },
        {
          "output_type": "stream",
          "name": "stdout",
          "text": [
            ">> Finished.\n",
            "Trial 1/1 || Cycle 2/10 || Label set size 1250: Test acc 87.34758511480602\n",
            "Max confidence value:  tensor(0.8237, device='cuda:0')\n",
            "Mean confidence value:  tensor(0.4273, device='cuda:0')\n",
            "Labeled classified:  0.4305\n",
            "Unlabeled classified:  0.8279\n",
            "Total classified:  0.7616666666666667\n",
            "first 5 comf score:  tensor(2.6027, device='cuda:0') tensor(3.3345, device='cuda:0') tensor(3.8747, device='cuda:0') tensor(3.8804, device='cuda:0') tensor(3.9254, device='cuda:0')\n",
            "1500 0 26575\n",
            ">> Train a Model.\n"
          ]
        },
        {
          "output_type": "stream",
          "name": "stderr",
          "text": []
        },
        {
          "output_type": "stream",
          "name": "stdout",
          "text": [
            "Val Acc: 84.964 \t Best Acc: 84.964\n"
          ]
        },
        {
          "output_type": "stream",
          "name": "stderr",
          "text": []
        },
        {
          "output_type": "stream",
          "name": "stdout",
          "text": [
            "Val Acc: 90.245 \t Best Acc: 90.245\n"
          ]
        }
      ]
    },
    {
      "cell_type": "markdown",
      "source": [
        "# Plots\n",
        "run this cell only when you have run the above scripts for the dataset and have the results.txt files in your folders"
      ],
      "metadata": {
        "id": "4Lq2ujAbOtkZ"
      }
    },
    {
      "cell_type": "code",
      "source": [
        "import matplotlib.pyplot as plt\n",
        "import pandas as pd\n",
        "import numpy as np"
      ],
      "metadata": {
        "id": "uZLeweKlPDp2"
      },
      "execution_count": null,
      "outputs": []
    },
    {
      "cell_type": "code",
      "source": [
        "methods = ['Random', 'UncertainGCN', 'CoreGCN', 'CoreSet', 'lloss']\n",
        "columns = ['method','trial','tota_trial','cycle','total_cycle','label_set_size','accuracy']"
      ],
      "metadata": {
        "id": "LXm90zahP3Su"
      },
      "execution_count": null,
      "outputs": []
    },
    {
      "cell_type": "markdown",
      "source": [
        "## CIFAR10\n",
        "dataset used in the paper"
      ],
      "metadata": {
        "id": "aY_IXHBtPXGd"
      }
    },
    {
      "cell_type": "code",
      "source": [
        "folder_path = '/content/drive/MyDrive/B.Tech./4th year/sem1/AML/Assignment1/Programming_Assignment/Results_CIFAR10'\n",
        "dataset = 'cifar10'\n",
        "\n",
        "plt.figure(figsize=(8,5), facecolor='w',edgecolor='k')\n",
        "for method in methods:\n",
        "    path = folder_path + '/results_{}_{}_main10False.txt'.format(method,dataset)\n",
        "\n",
        "    results = pd.read_csv(path, sep = ' ', names = columns)\n",
        "    results['accuracy'] = results['accuracy'].str.replace(\"'\", '').astype(np.float64)\n",
        "    results['cycle'] = results['cycle'].str.replace(\"'\", '').astype(np.int64)\n",
        "    plt.plot(results['cycle']*1000, results['accuracy'])\n",
        "\n",
        "\n",
        "plt.grid(True, alpha=0.5, color='k', linestyle='--',)\n",
        "plt.xlabel('Number of Labeled Samples')\n",
        "plt.ylabel('Testing Accuracy')\n",
        "plt.legend(['Random', 'UncertainGCN', 'CoreGCN', 'CoreSet', 'lloss'],loc = 'lower right')\n",
        "plt.title('Results {}'.format(dataset))"
      ],
      "metadata": {
        "colab": {
          "base_uri": "https://localhost:8080/",
          "height": 497
        },
        "id": "iXGvp9ZfPJ-U",
        "outputId": "ff4516ee-32f7-41e1-96bc-3be16ff83be3"
      },
      "execution_count": null,
      "outputs": [
        {
          "output_type": "execute_result",
          "data": {
            "text/plain": [
              "Text(0.5, 1.0, 'Results cifar10')"
            ]
          },
          "metadata": {},
          "execution_count": 25
        },
        {
          "output_type": "display_data",
          "data": {
            "text/plain": [
              "<Figure size 800x500 with 1 Axes>"
            ],
            "image/png": "[encoded data removed]"
          },
          "metadata": {}
        }
      ]
    },
    {
      "cell_type": "markdown",
      "source": [
        "## GTSRB\n",
        "dataset which I have used"
      ],
      "metadata": {
        "id": "dY6KEYp7PqCz"
      }
    },
    {
      "cell_type": "code",
      "source": [
        "folder_path = '/content/drive/MyDrive/B.Tech./4th year/sem1/AML/Assignment1/Programming_Assignment/Results_GTSRB'\n",
        "dataset = 'gtsrb'\n",
        "\n",
        "plt.figure(figsize=(8,5))\n",
        "for method in methods:\n",
        "    path = folder_path + '/results_{}_{}_main10False.txt'.format(method,dataset)\n",
        "    results = pd.read_csv(path, sep = ' ', names = columns)\n",
        "    results['accuracy'] = results['accuracy'].str.replace(\"'\", '').astype(np.float64)\n",
        "    results['cycle'] = results['cycle'].str.replace(\"'\", '').astype(np.int64)\n",
        "    plt.plot(results['cycle']*1000, results['accuracy'])\n",
        "\n",
        "plt.grid(True, alpha=0.5, color='k', linestyle='--',)\n",
        "plt.xlabel('Number of Labeled Samples')\n",
        "plt.ylabel('Testing Accuracy')\n",
        "plt.legend(['UncertainGCN', 'Random', 'CoreGCN', 'CoreSet', 'lloss'],loc = 'lower right')\n",
        "plt.title('Results {}'.format(dataset))"
      ],
      "metadata": {
        "colab": {
          "base_uri": "https://localhost:8080/",
          "height": 497
        },
        "id": "STvJ4M-nPpK1",
        "outputId": "8758ac41-727d-437f-9090-bfb64eab5f7d"
      },
      "execution_count": null,
      "outputs": [
        {
          "output_type": "execute_result",
          "data": {
            "text/plain": [
              "Text(0.5, 1.0, 'Results gtsrb')"
            ]
          },
          "metadata": {},
          "execution_count": 31
        },
        {
          "output_type": "display_data",
          "data": {
            "text/plain": [
              "<Figure size 800x500 with 1 Axes>"
            ],
            "image/png": "[encoded data removed]"
          },
          "metadata": {}
        }
      ]
    },
    {
      "cell_type": "markdown",
      "source": [
        "# On Modified algorithm"
      ],
      "metadata": {
        "id": "OmsOQLrX6NlY"
      }
    },
    {
      "cell_type": "code",
      "source": [
        "folder_path = '/content/drive/MyDrive/B.Tech./4th year/sem1/AML/Assignment1/Programming_Assignment/Results_Modified_Algorithm/Results_GTSRB'\n",
        "dataset = 'gtsrb'\n",
        "\n",
        "methods = ['UncertainGCN']\n",
        "\n",
        "plt.figure(figsize=(8,5))\n",
        "for method in methods:\n",
        "    path = folder_path + '/results_{}_{}_main10False.txt'.format(method,dataset)\n",
        "    results = pd.read_csv(path, sep = ' ', names = columns)\n",
        "    results['accuracy'] = results['accuracy'].str.replace(\"'\", '').astype(np.float64)\n",
        "    results['label_set_size'] = results['label_set_size'].str.replace(\"'\", '').astype(np.int64)\n",
        "    plt.plot(results['label_set_size'], results['accuracy'])\n",
        "\n",
        "plt.grid(True, alpha=0.5, color='k', linestyle='--',)\n",
        "plt.xlabel('Number of Labeled Samples used in training')\n",
        "plt.ylabel('Testing Accuracy')\n",
        "plt.legend([ 'Random','UncertainGCN'],loc = 'lower right')\n",
        "plt.title('Results {}'.format(dataset))"
      ],
      "metadata": {
        "colab": {
          "base_uri": "https://localhost:8080/",
          "height": 497
        },
        "id": "oWHUOpR56R5U",
        "outputId": "bcd55f4f-33a6-4a3c-8a04-3b05fcfb8c09"
      },
      "execution_count": null,
      "outputs": [
        {
          "output_type": "execute_result",
          "data": {
            "text/plain": [
              "Text(0.5, 1.0, 'Results gtsrb')"
            ]
          },
          "metadata": {},
          "execution_count": 34
        },
        {
          "output_type": "display_data",
          "data": {
            "text/plain": [
              "<Figure size 800x500 with 1 Axes>"
            ],
            "image/png": "[encoded data removed]"
          },
          "metadata": {}
        }
      ]
    }
  ]
}